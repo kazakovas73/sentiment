{
 "cells": [
  {
   "cell_type": "code",
   "execution_count": 19,
   "metadata": {},
   "outputs": [],
   "source": [
    "import pandas as pd\n",
    "from sklearn.feature_extraction.text import TfidfVectorizer\n",
    "from transformers import AutoTokenizer, AutoModel\n",
    "import torch\n",
    "from pathlib import Path"
   ]
  },
  {
   "cell_type": "code",
   "execution_count": 2,
   "metadata": {},
   "outputs": [
    {
     "data": {
      "text/plain": [
       "array([0., 0., 0., ..., 0., 0., 0.])"
      ]
     },
     "execution_count": 2,
     "metadata": {},
     "output_type": "execute_result"
    }
   ],
   "source": [
    "df = pd.read_csv('../../data/twitter_training.csv', header=None)\n",
    "df.drop(columns=[0,1], inplace=True)\n",
    "df.columns = ['label', 'text']\n",
    "\n",
    "labels = sorted(df.label.unique())\n",
    "label2id = dict(zip(labels, range(len(labels))))\n",
    "df['target'] = df.label.apply(lambda x: label2id[x])\n",
    "df.dropna(inplace=True)\n",
    "# df.head()\n",
    "tfidf = TfidfVectorizer()\n",
    "\n",
    "X = tfidf.fit_transform(df.text)\n",
    "X = X.toarray()\n",
    "X[0]"
   ]
  },
  {
   "cell_type": "code",
   "execution_count": 3,
   "metadata": {},
   "outputs": [],
   "source": [
    "config = {'model': 'ai-forever/sbert_large_nlu_ru'}\n",
    "\n",
    "tokenizer = AutoTokenizer.from_pretrained(config[\"model\"])\n",
    "model_hf = AutoModel.from_pretrained(config[\"model\"])"
   ]
  },
  {
   "cell_type": "code",
   "execution_count": 13,
   "metadata": {},
   "outputs": [],
   "source": [
    "def create_embedding(text):\n",
    "    \n",
    "    with torch.no_grad():\n",
    "        inputs = tokenizer(text, return_tensors=\"pt\", padding=True, truncation=True, max_length=512)\n",
    "        embeddings = model_hf(**inputs).last_hidden_state[:, 0, :].numpy()\n",
    "    return embeddings"
   ]
  },
  {
   "cell_type": "code",
   "execution_count": 18,
   "metadata": {},
   "outputs": [
    {
     "data": {
      "text/plain": [
       "array([[ 4.2679447e-01, -2.8372285e-01, -2.2269835e-01, ...,\n",
       "         3.2076749e-01, -1.2642201e+00,  4.4107616e-02],\n",
       "       [ 3.7005451e-01, -1.2414413e-01, -2.4223654e-01, ...,\n",
       "         3.6250138e-01, -8.2888925e-01,  2.5851291e-02],\n",
       "       [ 4.0417799e-01, -3.2004377e-01, -2.2525784e-01, ...,\n",
       "         4.8512909e-01, -1.2319142e+00,  3.7426554e-02],\n",
       "       ...,\n",
       "       [ 4.8449391e-01,  3.7058136e-01, -1.4294991e-01, ...,\n",
       "         2.6181722e-01, -1.2537019e+00,  4.4144008e-01],\n",
       "       [ 6.4889485e-01,  2.1009718e-04, -4.7704369e-01, ...,\n",
       "         3.7981066e-01, -9.0882063e-01,  2.5194368e-01],\n",
       "       [ 3.9653441e-01,  1.6655812e-01, -2.6362908e-01, ...,\n",
       "         3.0342647e-01, -1.1687939e+00,  4.6506247e-01]], dtype=float32)"
      ]
     },
     "execution_count": 18,
     "metadata": {},
     "output_type": "execute_result"
    }
   ],
   "source": [
    "create_embedding(df.text[:10].values.tolist())"
   ]
  },
  {
   "cell_type": "code",
   "execution_count": 16,
   "metadata": {},
   "outputs": [
    {
     "data": {
      "text/plain": [
       "array(['im getting on borderlands and i will murder you all ,',\n",
       "       'I am coming to the borders and I will kill you all,',\n",
       "       'im getting on borderlands and i will kill you all,',\n",
       "       'im coming on borderlands and i will murder you all,',\n",
       "       'im getting on borderlands 2 and i will murder you me all,',\n",
       "       'im getting into borderlands and i can murder you all,',\n",
       "       \"So I spent a few hours making something for fun. . . If you don't know I am a HUGE @Borderlands fan and Maya is one of my favorite characters. So I decided to make myself a wallpaper for my PC. . Here is the original image versus the creation I made :) Enjoy! pic.twitter.com/mLsI5wf9Jg\",\n",
       "       \"So I spent a couple of hours doing something for fun... If you don't know that I'm a huge @ Borderlands fan and Maya is one of my favorite characters, I decided to make a wallpaper for my PC.. Here's the original picture compared to the creation I made:) Have fun! pic.twitter.com / mLsI5wf9Jg\",\n",
       "       \"So I spent a few hours doing something for fun... If you don't know I'm a HUGE @ Borderlands fan and Maya is one of my favorite characters.\",\n",
       "       \"So I spent a few hours making something for fun. . . If you don't know I am a HUGE RhandlerR fan and Maya is one of my favorite characters. So I decided to make myself a wallpaper for my PC. . Here is the original image versus the creation I made :) Enjoy! pic.twitter.com/mLsI5wf9Jg\"],\n",
       "      dtype=object)"
      ]
     },
     "execution_count": 16,
     "metadata": {},
     "output_type": "execute_result"
    }
   ],
   "source": [
    "df.text[:10].values"
   ]
  },
  {
   "cell_type": "code",
   "execution_count": null,
   "metadata": {},
   "outputs": [],
   "source": []
  }
 ],
 "metadata": {
  "kernelspec": {
   "display_name": "env",
   "language": "python",
   "name": "python3"
  },
  "language_info": {
   "codemirror_mode": {
    "name": "ipython",
    "version": 3
   },
   "file_extension": ".py",
   "mimetype": "text/x-python",
   "name": "python",
   "nbconvert_exporter": "python",
   "pygments_lexer": "ipython3",
   "version": "3.11.5"
  }
 },
 "nbformat": 4,
 "nbformat_minor": 2
}
